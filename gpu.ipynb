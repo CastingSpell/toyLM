{
  "cells": [
    {
      "cell_type": "markdown",
      "metadata": {
        "id": "h4o_INDOLM8j"
      },
      "source": [
        "# **How to set GPU suppport in Colab**\n",
        "\n",
        "Go to Edit -> Notebook Settings -> Hardware accelerator (set GPU or TPU)\n"
      ]
    },
    {
      "cell_type": "code",
      "execution_count": 1,
      "metadata": {
        "colab": {
          "base_uri": "https://localhost:8080/"
        },
        "id": "NSXKIlMNIz5l",
        "outputId": "06db2891-29cc-490f-d382-8dd04b7ae453"
      },
      "outputs": [
        {
          "name": "stdout",
          "output_type": "stream",
          "text": [
            "Current keras version:  2.8.0\n",
            "Available resources:  [name: \"/device:CPU:0\"\n",
            "device_type: \"CPU\"\n",
            "memory_limit: 268435456\n",
            "locality {\n",
            "}\n",
            "incarnation: 4361751015700898351\n",
            "xla_global_id: -1\n",
            ", name: \"/device:GPU:0\"\n",
            "device_type: \"GPU\"\n",
            "memory_limit: 2924648859\n",
            "locality {\n",
            "  bus_id: 1\n",
            "  links {\n",
            "  }\n",
            "}\n",
            "incarnation: 10033444157897423288\n",
            "physical_device_desc: \"device: 0, name: NVIDIA GeForce GTX 1050 with Max-Q Design, pci bus id: 0000:02:00.0, compute capability: 6.1\"\n",
            "xla_global_id: 416903419\n",
            "]\n"
          ]
        }
      ],
      "source": [
        "import tensorflow\n",
        "from tensorflow.python.client import device_lib\n",
        "\n",
        "print (\"Current keras version: \", tensorflow.keras.__version__)\n",
        "print (\"Available resources: \", device_lib.list_local_devices())"
      ]
    }
  ],
  "metadata": {
    "accelerator": "GPU",
    "colab": {
      "name": "gpu.ipynb",
      "provenance": []
    },
    "kernelspec": {
      "display_name": "Python 3",
      "name": "python3"
    },
    "language_info": {
      "codemirror_mode": {
        "name": "ipython",
        "version": 3
      },
      "file_extension": ".py",
      "mimetype": "text/x-python",
      "name": "python",
      "nbconvert_exporter": "python",
      "pygments_lexer": "ipython3",
      "version": "3.9.5"
    }
  },
  "nbformat": 4,
  "nbformat_minor": 0
}
