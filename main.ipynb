{
 "cells": [
  {
   "cell_type": "code",
   "execution_count": 1,
   "metadata": {},
   "outputs": [],
   "source": [
    "from tensorflow.keras.preprocessing.text import Tokenizer\n",
    "from tensorflow.python.client import device_lib\n",
    "from tensorflow.keras import Sequential\n",
    "from tensorflow.keras.layers import Embedding, Dense, LSTM\n",
    "from tensorflow.keras.utils import to_categorical\n",
    "from tensorflow.keras.preprocessing.sequence import pad_sequences\n",
    "import tensorflow\n",
    "import numpy as np"
   ]
  },
  {
   "cell_type": "code",
   "execution_count": 54,
   "metadata": {},
   "outputs": [],
   "source": [
    "def readDatasets(path):\n",
    "    f = open(path, 'r', encoding='utf-8')\n",
    "    texts = f.readlines()\n",
    "    f.close()\n",
    "    return texts\n",
    "\n",
    "text_train = readDatasets('HerMajestySpeechesDataset/train.txt')\n",
    "text_test = readDatasets('HerMajestySpeechesDataset/test.txt')\n",
    "text_val = readDatasets('HerMajestySpeechesDataset/dev.txt')"
   ]
  },
  {
   "cell_type": "code",
   "execution_count": 56,
   "metadata": {},
   "outputs": [],
   "source": [
    "tokenizer_train = Tokenizer(oov_token='<unk>')\n",
    "tokenizer_train.fit_on_texts(text_train) \n",
    "texts2ids_train = tokenizer_train.texts_to_sequences(text_train)\n",
    "\n",
    "tokenizer_test = Tokenizer(oov_token='<unk>')\n",
    "tokenizer_test.fit_on_texts(text_train) \n",
    "texts2ids_test = tokenizer_test.texts_to_sequences(text_train)\n",
    "\n",
    "tokenizer_val = Tokenizer(oov_token='<unk>')\n",
    "tokenizer_val.fit_on_texts(text_train) \n",
    "texts2ids_val = tokenizer_val.texts_to_sequences(text_train)\n",
    "\n",
    "# print (\"Texts as IDs:\", texts2ids[:10])\n",
    "ids2texts = tokenizer_train.sequences_to_texts(texts2ids)\n",
    "# print (\"IDs back to texts:\", ids2texts[:10])"
   ]
  },
  {
   "cell_type": "code",
   "execution_count": 52,
   "metadata": {
    "collapsed": false,
    "pycharm": {
     "name": "#%%\n"
    }
   },
   "outputs": [],
   "source": [
    "def get_ngrams(frase, size=2):\n",
    "    for i in range(size):\n",
    "        frase = [0] + frase\n",
    "    ngrams_list = []\n",
    "    for i in range(len(frase)-size):\n",
    "        ngrams_list.append((tuple(frase[i:i+size]),frase[i+size]))\n",
    "    return ngrams_list\n",
    "\n",
    "all_ngrams = []\n",
    "for i in texts2ids_train:\n",
    "    all_ngrams += get_ngrams(i)"
   ]
  },
  {
   "cell_type": "code",
   "execution_count": 7,
   "metadata": {
    "collapsed": false,
    "pycharm": {
     "name": "#%%\n"
    }
   },
   "outputs": [],
   "source": [
    "def co_table(lista_ocurrencias):\n",
    "    table = {}\n",
    "    for i in lista_ocurrencias:\n",
    "        if i[0] in table:\n",
    "            if i[1] in table[i[0]]:\n",
    "                table[i[0]][i[1]] += 1\n",
    "            else:\n",
    "                table[i[0]][i[1]] = 1\n",
    "        else:\n",
    "            table[i[0]] = {}\n",
    "            table[i[0]][i[1]] = 1\n",
    "    return table\n",
    "\n",
    "table = co_table(all_ngrams)"
   ]
  },
  {
   "cell_type": "code",
   "execution_count": 9,
   "metadata": {
    "collapsed": false,
    "pycharm": {
     "name": "#%%\n"
    }
   },
   "outputs": [],
   "source": [
    "def generate_toyLM_ngram_a(table, context='aleatorio', n=15):\n",
    "    if context == 'aleatorio':\n",
    "        tmp = list(table.keys())\n",
    "        context = tmp[np.random.randint(len(tmp))]\n",
    "\n",
    "    cadena = list(context)\n",
    "    for _ in range(n-len(context)):\n",
    "        context = tuple(cadena[-len(context):])\n",
    "        if context not in table.keys():\n",
    "            return tokenizer_train.sequences_to_texts([cadena])\n",
    "        else:\n",
    "            new = max(table[context], key=table[context].get)\n",
    "            cadena.append(new)\n",
    "    return tokenizer_train.sequences_to_texts([cadena])\n",
    "\n",
    "generate_toyLM_ngram_a(table)\n"
   ]
  },
  {
   "cell_type": "code",
   "execution_count": 11,
   "metadata": {
    "collapsed": false,
    "pycharm": {
     "name": "#%%\n"
    }
   },
   "outputs": [],
   "source": [
    "def generate_toyLM_ngram_b(table, context='aleatorio', n=15):\n",
    "    if context == 'aleatorio':\n",
    "        tmp = list(table.keys())\n",
    "        context = tmp[np.random.randint(len(tmp))]\n",
    "\n",
    "    cadena = list(context)\n",
    "    for i in range(n-len(context)):\n",
    "        context = tuple(cadena[-len(context):])\n",
    "        if context not in table.keys():\n",
    "            return tokenizer_train.sequences_to_texts([cadena])\n",
    "        else:\n",
    "            lista_tmp = list()\n",
    "            for i in table[context]:\n",
    "                for j in range(table[context][i]):\n",
    "                    lista_tmp.append(i)\n",
    "            new = np.random.randint(len(lista_tmp))\n",
    "            cadena.append(lista_tmp[new])\n",
    "    return tokenizer_train.sequences_to_texts([cadena])\n",
    "\n",
    "generate_toyLM_ngram_b(table, (424, 1166))"
   ]
  },
  {
   "cell_type": "markdown",
   "metadata": {},
   "source": [
    "# toyLM_LSTM"
   ]
  },
  {
   "cell_type": "code",
   "execution_count": 57,
   "metadata": {},
   "outputs": [],
   "source": [
    "def train_generate(text, max_seq_length=10):\n",
    "    train_set = dict()\n",
    "    for frase in text:\n",
    "        for word_index in range(len(frase)):\n",
    "            if word_index < max_seq_length:\n",
    "                train_set[tuple(pad_sequences([frase[:word_index]], maxlen=max_seq_length)[0])] = frase[word_index]\n",
    "    return train_set\n",
    "    \n",
    "train_set = train_generate(texts2ids_train)\n",
    "test_set = train_generate(texts2ids_test)\n",
    "val_set = train_generate(texts2ids_val)"
   ]
  },
  {
   "cell_type": "code",
   "execution_count": 58,
   "metadata": {},
   "outputs": [],
   "source": [
    "x_train = np.array(list(train_set.keys()))\n",
    "y_train = to_categorical(list(train_set.values()), num_classes=len(tokenizer_train.word_index))\n",
    "\n",
    "x_test = np.array(list(test_set.keys()))\n",
    "y_test = to_categorical(list(test_set.values()), num_classes=len(tokenizer_test.word_index))\n",
    "\n",
    "x_val = np.array(list(val_set.keys()))\n",
    "y_val = to_categorical(list(val_set.values()), num_classes=len(tokenizer_val.word_index))"
   ]
  },
  {
   "cell_type": "code",
   "execution_count": 59,
   "metadata": {},
   "outputs": [
    {
     "name": "stdout",
     "output_type": "stream",
     "text": [
      "Epoch 1/10\n",
      "251/251 [==============================] - 13s 34ms/step - loss: 6.9855 - accuracy: 0.0591 - val_loss: 6.3493 - val_accuracy: 0.0600\n",
      "Epoch 2/10\n",
      "251/251 [==============================] - 5s 19ms/step - loss: 6.3147 - accuracy: 0.0600 - val_loss: 6.1828 - val_accuracy: 0.0600\n",
      "Epoch 3/10\n",
      "251/251 [==============================] - 5s 21ms/step - loss: 6.2027 - accuracy: 0.0657 - val_loss: 6.0996 - val_accuracy: 0.0704\n",
      "Epoch 4/10\n",
      "251/251 [==============================] - 5s 21ms/step - loss: 6.1212 - accuracy: 0.0806 - val_loss: 6.0180 - val_accuracy: 0.0834\n",
      "Epoch 5/10\n",
      "251/251 [==============================] - 6s 23ms/step - loss: 6.0499 - accuracy: 0.0828 - val_loss: 5.9576 - val_accuracy: 0.0888\n",
      "Epoch 6/10\n",
      "251/251 [==============================] - 5s 20ms/step - loss: 5.9927 - accuracy: 0.0867 - val_loss: 5.9028 - val_accuracy: 0.0883\n",
      "Epoch 7/10\n",
      "251/251 [==============================] - 5s 19ms/step - loss: 5.9407 - accuracy: 0.0918 - val_loss: 5.8498 - val_accuracy: 0.0972\n",
      "Epoch 8/10\n",
      "251/251 [==============================] - 5s 19ms/step - loss: 5.8879 - accuracy: 0.0971 - val_loss: 5.7940 - val_accuracy: 0.1020\n",
      "Epoch 9/10\n",
      "251/251 [==============================] - 5s 19ms/step - loss: 5.8290 - accuracy: 0.1017 - val_loss: 5.7297 - val_accuracy: 0.1048\n",
      "Epoch 10/10\n",
      "251/251 [==============================] - 5s 19ms/step - loss: 5.7592 - accuracy: 0.1059 - val_loss: 5.6481 - val_accuracy: 0.1085\n"
     ]
    }
   ],
   "source": [
    "model = Sequential([\n",
    "    Embedding(5614, 20, input_length=10),\n",
    "    LSTM(64),\n",
    "    Dense(5614, activation='softmax')\n",
    "])\n",
    "\n",
    "model.compile(loss='categorical_crossentropy', optimizer='adam', metrics=['accuracy'])\n",
    "\n",
    "history = model.fit(x_train, y_train, validation_data=(x_val, y_val), batch_size=64, epochs=10)"
   ]
  },
  {
   "cell_type": "code",
   "execution_count": 60,
   "metadata": {},
   "outputs": [],
   "source": [
    "import keras.backend as K\n",
    "\n",
    "def perplexity(y_true, y_pred):\n",
    "    cross_entropy = K.categorical_crossentropy(y_true, y_pred)\n",
    "    perplexity = K.pow(2.0, cross_entropy)\n",
    "    return perplexity"
   ]
  },
  {
   "cell_type": "code",
   "execution_count": 68,
   "metadata": {},
   "outputs": [],
   "source": [
    "y_pred = model.predict(x_test)\n",
    "np.mean(perplexity(y_test, y_pred))"
   ]
  }
 ],
 "metadata": {
  "interpreter": {
   "hash": "eaf8493770d7c647504f8822272130844a080041caffea46428413e90a69177e"
  },
  "kernelspec": {
   "display_name": "Python 3.9.5 ('ple': venv)",
   "language": "python",
   "name": "python3"
  },
  "language_info": {
   "codemirror_mode": {
    "name": "ipython",
    "version": 3
   },
   "file_extension": ".py",
   "mimetype": "text/x-python",
   "name": "python",
   "nbconvert_exporter": "python",
   "pygments_lexer": "ipython3",
   "version": "3.9.5"
  },
  "orig_nbformat": 4
 },
 "nbformat": 4,
 "nbformat_minor": 2
}
